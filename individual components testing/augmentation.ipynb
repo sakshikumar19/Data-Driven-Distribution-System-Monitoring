{
  "cells": [
    {
      "cell_type": "code",
      "execution_count": 1,
      "metadata": {
        "colab": {
          "base_uri": "https://localhost:8080/"
        },
        "id": "5whkTU4JLC6G",
        "outputId": "9ad1e5e2-f513-4d69-85e5-424096516056"
      },
      "outputs": [
        {
          "name": "stdout",
          "output_type": "stream",
          "text": [
            "   Bus      P (kW)   Q (kVAR)\n",
            "0    3   90.587496  54.352497\n",
            "1    3   67.822806  40.693684\n",
            "2    3  100.935074  60.561044\n",
            "3    3  147.023064  88.213838\n",
            "4    3  103.117716  61.870630\n"
          ]
        }
      ],
      "source": [
        "import numpy as np\n",
        "import pandas as pd\n",
        "\n",
        "# Given load data (Bus: (P, Q))\n",
        "load_data = {\n",
        "    2: (0, 0),\n",
        "    3: (100, 60),\n",
        "    4: (90, 40),\n",
        "    5: (120, 80),\n",
        "    6: (60, 30),\n",
        "    7: (60, 20),\n",
        "    8: (200, 100),\n",
        "    9: (200, 100),\n",
        "    10: (60, 20),\n",
        "    11: (60, 20),\n",
        "    12: (45, 30),\n",
        "    13: (60, 35),\n",
        "    14: (60, 35),\n",
        "    15: (120, 80),\n",
        "    16: (60, 10),\n",
        "    17: (60, 20),\n",
        "    18: (60, 20),\n",
        "    19: (90, 40),\n",
        "    20: (90, 40),\n",
        "    21: (90, 40),\n",
        "    22: (90, 40),\n",
        "    23: (90, 40),\n",
        "    24: (90, 50),\n",
        "    25: (420, 200),\n",
        "    26: (420, 200),\n",
        "    27: (60, 25),\n",
        "    28: (60, 25),\n",
        "    29: (60, 20),\n",
        "    30: (120, 70),\n",
        "    31: (200, 600),\n",
        "    32: (150, 70),\n",
        "    33: (210, 100),\n",
        "}\n",
        "\n",
        "num_samples = 1000  # Number of Monte Carlo samples\n",
        "\n",
        "# Prepare the dataset\n",
        "simulated_data = []\n",
        "\n",
        "for bus, (P_mean, Q_mean) in load_data.items():\n",
        "    if P_mean == 0:  # Skip buses with zero load\n",
        "        continue\n",
        "\n",
        "    # Compute power factor and angle\n",
        "    S_mean = np.sqrt(P_mean**2 + Q_mean**2)  # Apparent power\n",
        "    power_factor = P_mean / S_mean\n",
        "    theta = np.arccos(power_factor)  # Angle in radians\n",
        "\n",
        "    # Define standard deviation for normal distribution\n",
        "    P_std = P_mean / 6  # Since 3σ should cover the range (mean-3σ to mean+3σ)\n",
        "\n",
        "    # Generate Monte Carlo samples for P\n",
        "    P_samples = np.random.normal(loc=P_mean, scale=P_std, size=num_samples)\n",
        "\n",
        "    # Compute corresponding Q values while maintaining power factor\n",
        "    Q_samples = P_samples * np.tan(theta)\n",
        "\n",
        "    # Store results\n",
        "    for i in range(num_samples):\n",
        "        simulated_data.append((bus, P_samples[i], Q_samples[i]))\n",
        "\n",
        "# Convert to DataFrame\n",
        "df_simulated = pd.DataFrame(simulated_data, columns=['Bus', 'P (kW)', 'Q (kVAR)'])\n",
        "\n",
        "# Display the first few rows\n",
        "print(df_simulated.head())\n",
        "\n",
        "# Optionally, save to a CSV file\n",
        "df_simulated.to_csv(\"monte_carlo_load_data.csv\", index=False)\n"
      ]
    },
    {
      "cell_type": "code",
      "execution_count": null,
      "metadata": {
        "id": "8SIc8ng2P36-"
      },
      "outputs": [],
      "source": []
    }
  ],
  "metadata": {
    "colab": {
      "provenance": []
    },
    "kernelspec": {
      "display_name": "Python 3",
      "name": "python3"
    },
    "language_info": {
      "codemirror_mode": {
        "name": "ipython",
        "version": 3
      },
      "file_extension": ".py",
      "mimetype": "text/x-python",
      "name": "python",
      "nbconvert_exporter": "python",
      "pygments_lexer": "ipython3",
      "version": "3.12.2"
    }
  },
  "nbformat": 4,
  "nbformat_minor": 0
}
